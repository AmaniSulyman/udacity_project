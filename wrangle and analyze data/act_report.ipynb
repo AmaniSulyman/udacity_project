{
 "cells": [
  {
   "cell_type": "markdown",
   "metadata": {},
   "source": [
    "\n",
    "# Insight into WeRateDogs\n",
    "\n",
    "## Introduction\n",
    "\"They're good dogs, Brent\" is one of 2016's most popular memes from the WeRateDogs Twitter account. This Twitter account awards stars to users' pets along with a hilarious comment.  the numerators (11/10, 12/10, 13/10, etc.) are virtually always bigger than 10. The rates should range from one to ten in theory. WeRateDogs disagrees, admitting that almost all dogs merit at least a 10, and often much more, stars. WeRateDogs has more than 6 million followers and has been featured in international media. \n",
    "\n",
    "> what is the most frequently used Twitter source?\n",
    "\n",
    "> what is the stage that has the highest average rating among other dog stages?\n",
    "\n",
    "> what are the top three months that have the highest number of tweets? \n",
    "\n",
    "These questions are answered in the following insights:\n",
    "\n",
    "## what is the most frequently used Twitter source?\n",
    "Based on the analysis, it appears that the most source of tweets via \"Twitter for iPhone\" comes with a number of 2032 sources, then comes the \"Twitter Web Client\" with 30, and finally TweetDeck comes with 11.\n",
    "\n",
    "## what is the stage that has the highest average rating among other dog stages?\n",
    "The four stages of the dogs are doggo floofer pupper puppo\n",
    "Based on the analysis, noticed that the puppo and floofer stage has the highest average rating of all dog stage as following:\n",
    ">doggo      11.862500\n",
    "\n",
    ">floofer    12.000000\n",
    "\n",
    ">pupper     10.752381\n",
    "\n",
    ">puppo      12.000000\n",
    "\n",
    "\n",
    "## what are the top three months that have the highest number of tweets? \n",
    "<img src=\"image.png\"> \n",
    "Based on the analysis, the top three months that have the highest number of tweets are December, November, and January.\n",
    "\n",
    "## References:\n",
    "https://en.wikipedia.org/wiki/WeRateDogs\n"
   ]
  }
 ],
 "metadata": {
  "kernelspec": {
   "display_name": "Python 3",
   "language": "python",
   "name": "python3"
  },
  "language_info": {
   "codemirror_mode": {
    "name": "ipython",
    "version": 3
   },
   "file_extension": ".py",
   "mimetype": "text/x-python",
   "name": "python",
   "nbconvert_exporter": "python",
   "pygments_lexer": "ipython3",
   "version": "3.6.3"
  }
 },
 "nbformat": 4,
 "nbformat_minor": 2
}
